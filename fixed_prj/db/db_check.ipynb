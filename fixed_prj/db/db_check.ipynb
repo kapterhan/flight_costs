{
 "cells": [
  {
   "cell_type": "code",
   "execution_count": 41,
   "id": "ace9d37a-373d-4002-b303-356b69a52611",
   "metadata": {},
   "outputs": [
    {
     "ename": "OperationalError",
     "evalue": "no such table: schedules",
     "output_type": "error",
     "traceback": [
      "\u001b[1;31m---------------------------------------------------------------------------\u001b[0m",
      "\u001b[1;31mOperationalError\u001b[0m                          Traceback (most recent call last)",
      "Cell \u001b[1;32mIn[41], line 9\u001b[0m\n\u001b[0;32m      7\u001b[0m cursor \u001b[38;5;241m=\u001b[39m conn\u001b[38;5;241m.\u001b[39mcursor()\n\u001b[0;32m      8\u001b[0m \u001b[38;5;66;03m# 가장 마지막에 저장된 데이터 가져오기 (최신 ID 순으로 정렬 후 한 개만 가져옴)\u001b[39;00m\n\u001b[1;32m----> 9\u001b[0m \u001b[43mcursor\u001b[49m\u001b[38;5;241;43m.\u001b[39;49m\u001b[43mexecute\u001b[49m\u001b[43m(\u001b[49m\u001b[38;5;124;43m\"\u001b[39;49m\u001b[38;5;124;43mSELECT * FROM schedules\u001b[39;49m\u001b[38;5;124;43m\"\u001b[39;49m\u001b[43m)\u001b[49m\n\u001b[0;32m     10\u001b[0m entry1 \u001b[38;5;241m=\u001b[39m cursor\u001b[38;5;241m.\u001b[39mfetchall()  \u001b[38;5;66;03m# 한 줄만 가져오기\u001b[39;00m\n\u001b[0;32m     11\u001b[0m \u001b[38;5;66;03m# 연결 종료\u001b[39;00m\n",
      "\u001b[1;31mOperationalError\u001b[0m: no such table: schedules"
     ]
    }
   ],
   "source": [
    "import sqlite3\n",
    "# :압정: 데이터베이스 파일 경로\n",
    "DB_PATH = r\"C:\\Users\\kccistc\\Desktop\\0224_test\\fixed_prj\\db\\flight_schedule.db\"\n",
    "# :압정: 데이터베이스에서 가장 최근 데이터(마지막 한 줄) 가져오기\n",
    "    # 데이터베이스 연결\n",
    "conn = sqlite3.connect(DB_PATH)\n",
    "cursor = conn.cursor()\n",
    "# 가장 마지막에 저장된 데이터 가져오기 (최신 ID 순으로 정렬 후 한 개만 가져옴)\n",
    "cursor.execute(\"SELECT * FROM schedules\")\n",
    "entry1 = cursor.fetchall()  # 한 줄만 가져오기\n",
    "# 연결 종료\n",
    "conn.close()\n",
    "# 데이터 출력\n",
    "entry1"
   ]
  },
  {
   "cell_type": "code",
   "execution_count": 42,
   "id": "1a86ddfc-1c96-4f7b-aef8-563cf6bfec56",
   "metadata": {},
   "outputs": [
    {
     "ename": "OperationalError",
     "evalue": "no such table: flight_results",
     "output_type": "error",
     "traceback": [
      "\u001b[1;31m---------------------------------------------------------------------------\u001b[0m",
      "\u001b[1;31mOperationalError\u001b[0m                          Traceback (most recent call last)",
      "Cell \u001b[1;32mIn[42], line 9\u001b[0m\n\u001b[0;32m      7\u001b[0m cursor \u001b[38;5;241m=\u001b[39m conn\u001b[38;5;241m.\u001b[39mcursor()\n\u001b[0;32m      8\u001b[0m \u001b[38;5;66;03m# 가장 마지막에 저장된 데이터 가져오기 (최신 ID 순으로 정렬 후 한 개만 가져옴)\u001b[39;00m\n\u001b[1;32m----> 9\u001b[0m \u001b[43mcursor\u001b[49m\u001b[38;5;241;43m.\u001b[39;49m\u001b[43mexecute\u001b[49m\u001b[43m(\u001b[49m\u001b[38;5;124;43m\"\u001b[39;49m\u001b[38;5;124;43mSELECT * FROM flight_results\u001b[39;49m\u001b[38;5;124;43m\"\u001b[39;49m\u001b[43m)\u001b[49m\n\u001b[0;32m     10\u001b[0m entry2 \u001b[38;5;241m=\u001b[39m cursor\u001b[38;5;241m.\u001b[39mfetchall()  \u001b[38;5;66;03m# 한 줄만 가져오기\u001b[39;00m\n\u001b[0;32m     11\u001b[0m \u001b[38;5;66;03m# 연결 종료\u001b[39;00m\n",
      "\u001b[1;31mOperationalError\u001b[0m: no such table: flight_results"
     ]
    }
   ],
   "source": [
    "import sqlite3\n",
    "# :압정: 데이터베이스 파일 경로\n",
    "DB_PATH = r\"C:\\Users\\kccistc\\Desktop\\0224_test\\fixed_prj\\db\\flight_schedule.db\"\n",
    "# :압정: 데이터베이스에서 가장 최근 데이터(마지막 한 줄) 가져오기\n",
    "    # 데이터베이스 연결\n",
    "conn = sqlite3.connect(DB_PATH)\n",
    "cursor = conn.cursor()\n",
    "# 가장 마지막에 저장된 데이터 가져오기 (최신 ID 순으로 정렬 후 한 개만 가져옴)\n",
    "cursor.execute(\"SELECT * FROM flight_results\")\n",
    "entry2 = cursor.fetchall()  # 한 줄만 가져오기\n",
    "# 연결 종료\n",
    "conn.close()\n",
    "# 데이터 출력\n",
    "entry2"
   ]
  }
 ],
 "metadata": {
  "kernelspec": {
   "display_name": "Python 3 (ipykernel)",
   "language": "python",
   "name": "python3"
  },
  "language_info": {
   "codemirror_mode": {
    "name": "ipython",
    "version": 3
   },
   "file_extension": ".py",
   "mimetype": "text/x-python",
   "name": "python",
   "nbconvert_exporter": "python",
   "pygments_lexer": "ipython3",
   "version": "3.9.21"
  }
 },
 "nbformat": 4,
 "nbformat_minor": 5
}
